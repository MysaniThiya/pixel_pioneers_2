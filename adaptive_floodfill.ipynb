{
 "cells": [
  {
   "cell_type": "code",
   "execution_count": 1,
   "id": "4e5fc972-366c-459c-a14a-930c784d914f",
   "metadata": {},
   "outputs": [
    {
     "name": "stdout",
     "output_type": "stream",
     "text": [
      "Flood fill applied and images saved.\n"
     ]
    }
   ],
   "source": [
    "import cv2\n",
    "import numpy as np\n",
    "import os\n",
    "\n",
    "# Paths to the input and output folders\n",
    "input_folder = 'adaptiveThresholded_image'\n",
    "output_folder = 'adaptive_floodfill'\n",
    "\n",
    "# Create the output folder if it doesn't exist\n",
    "os.makedirs(output_folder, exist_ok=True)\n",
    "\n",
    "# Flood fill parameters\n",
    "seed_point = (0, 0)  # Starting point for flood fill (change as needed)\n",
    "fill_color = (255)   # Color to fill with (255 for white in grayscale)\n",
    "\n",
    "# Process each image in the input folder\n",
    "for filename in os.listdir(input_folder):\n",
    "    if filename.endswith('.png') or filename.endswith('.jpg'):\n",
    "        # Load the image\n",
    "        image_path = os.path.join(input_folder, filename)\n",
    "        image = cv2.imread(image_path, cv2.IMREAD_GRAYSCALE)\n",
    "        \n",
    "        # Create a copy of the image for flood fill\n",
    "        flood_fill_image = image.copy()\n",
    "        \n",
    "        # Apply flood fill\n",
    "        mask = np.zeros((image.shape[0] + 2, image.shape[1] + 2), np.uint8)\n",
    "        cv2.floodFill(flood_fill_image, mask, seed_point, fill_color)\n",
    "        \n",
    "        # Save the flood-filled image\n",
    "        output_path = os.path.join(output_folder, f'flood_filled_{filename}')\n",
    "        cv2.imwrite(output_path, flood_fill_image)\n",
    "\n",
    "print(\"Flood fill applied and images saved.\")\n"
   ]
  },
  {
   "cell_type": "code",
   "execution_count": null,
   "id": "30d064b2-baaa-44bc-9b27-ea079a019be1",
   "metadata": {},
   "outputs": [],
   "source": []
  }
 ],
 "metadata": {
  "kernelspec": {
   "display_name": "Python 3 (ipykernel)",
   "language": "python",
   "name": "python3"
  },
  "language_info": {
   "codemirror_mode": {
    "name": "ipython",
    "version": 3
   },
   "file_extension": ".py",
   "mimetype": "text/x-python",
   "name": "python",
   "nbconvert_exporter": "python",
   "pygments_lexer": "ipython3",
   "version": "3.8.19"
  }
 },
 "nbformat": 4,
 "nbformat_minor": 5
}
