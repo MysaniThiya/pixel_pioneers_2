{
 "cells": [
  {
   "cell_type": "code",
   "execution_count": 7,
   "id": "d3ead1e6-2c8b-4612-b9b4-6fe48e52f93a",
   "metadata": {},
   "outputs": [
    {
     "name": "stdout",
     "output_type": "stream",
     "text": [
      "Before Conversion (Day_01.jpg): [140 142 150]\n",
      "After Conversion (Day_01.jpg): 142\n",
      "Before Conversion (Day_02.jpg): [159 137 131]\n",
      "After Conversion (Day_02.jpg): 143\n",
      "Before Conversion (Day_03.jpg): [194 184 177]\n",
      "After Conversion (Day_03.jpg): 186\n",
      "Before Conversion (Day_04.jpg): [204 187 178]\n",
      "After Conversion (Day_04.jpg): 191\n",
      "Before Conversion (Day_05.jpg): [202 197 194]\n",
      "After Conversion (Day_05.jpg): 198\n",
      "Before Conversion (Day_06.jpg): [193 181 177]\n",
      "After Conversion (Day_06.jpg): 184\n",
      "Before Conversion (Day_07.jpg): [204 200 199]\n",
      "After Conversion (Day_07.jpg): 201\n",
      "Before Conversion (Day_08.jpg): [246 233 225]\n",
      "After Conversion (Day_08.jpg): 236\n",
      "Before Conversion (Day_09.jpg): [233 236 240]\n",
      "After Conversion (Day_09.jpg): 236\n",
      "Before Conversion (Day_10.jpg): [221 229 229]\n",
      "After Conversion (Day_10.jpg): 227\n",
      "Before Conversion (Day_11.jpg): [214 211 206]\n",
      "After Conversion (Day_11.jpg): 211\n",
      "Before Conversion (Day_12.jpg): [219 224 227]\n",
      "After Conversion (Day_12.jpg): 223\n",
      "Before Conversion (Day_13.jpg): [210 207 202]\n",
      "After Conversion (Day_13.jpg): 207\n",
      "Before Conversion (Day_14.jpg): [240 238 237]\n",
      "After Conversion (Day_14.jpg): 238\n",
      "Conversion complete.\n"
     ]
    }
   ],
   "source": [
    "import cv2\n",
    "import os\n",
    "\n",
    "# Directory containing the original bread slice images\n",
    "input_dir = 'cropped_image'\n",
    "\n",
    "# Directory where the grayscale images will be saved\n",
    "output_dir = 'gray_converted_image'\n",
    "\n",
    "# Create the output directory if it doesn't exist\n",
    "os.makedirs(output_dir, exist_ok=True)\n",
    "\n",
    "# List all image files in the input directory\n",
    "image_files = [f for f in os.listdir(input_dir) if os.path.isfile(os.path.join(input_dir, f))]\n",
    "\n",
    "for image_file in image_files:\n",
    "    # Read the image\n",
    "    img_path = os.path.join(input_dir, image_file)\n",
    "    img = cv2.imread(img_path)\n",
    "    \n",
    "    if img is None:\n",
    "        print(f\"Could not read image {img_path}\")\n",
    "        continue\n",
    "    \n",
    "    print(f'Before Conversion ({image_file}):', img[0, 0])\n",
    "    \n",
    "    # Convert to grayscale\n",
    "    img_gray = cv2.cvtColor(img, cv2.COLOR_RGB2GRAY)\n",
    "    \n",
    "    print(f'After Conversion ({image_file}):', img_gray[0, 0])\n",
    "    \n",
    "    # Save the grayscale image to the output directory\n",
    "    output_path = os.path.join(output_dir, f'gray_{image_file}')\n",
    "    cv2.imwrite(output_path, img_gray)\n",
    "\n",
    "print(\"Conversion complete.\")\n"
   ]
  },
  {
   "cell_type": "code",
   "execution_count": null,
   "id": "230597d7-a192-4aa7-8a21-341319caab2b",
   "metadata": {},
   "outputs": [],
   "source": []
  }
 ],
 "metadata": {
  "kernelspec": {
   "display_name": "Python 3 (ipykernel)",
   "language": "python",
   "name": "python3"
  },
  "language_info": {
   "codemirror_mode": {
    "name": "ipython",
    "version": 3
   },
   "file_extension": ".py",
   "mimetype": "text/x-python",
   "name": "python",
   "nbconvert_exporter": "python",
   "pygments_lexer": "ipython3",
   "version": "3.8.19"
  }
 },
 "nbformat": 4,
 "nbformat_minor": 5
}
