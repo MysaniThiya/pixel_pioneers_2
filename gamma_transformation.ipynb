{
 "cells": [
  {
   "cell_type": "code",
   "execution_count": 6,
   "id": "1ef31616-3ff5-471b-82c2-e53db6a38f60",
   "metadata": {},
   "outputs": [
    {
     "name": "stdout",
     "output_type": "stream",
     "text": [
      "Gamma correction applied to all images and saved to: gammaTransformed_image\n"
     ]
    }
   ],
   "source": [
    "import cv2\n",
    "import numpy as np\n",
    "import os\n",
    "\n",
    "def adjust_gamma(image, gamma=1.0):\n",
    "    # Build a lookup table mapping the pixel values [0, 255] to their adjusted gamma values\n",
    "    invGamma = 1.0 / gamma\n",
    "    table = np.array([((i / 255.0) ** invGamma) * 255 for i in np.arange(0, 256)]).astype(\"uint8\")\n",
    "\n",
    "    # Apply gamma correction using the lookup table\n",
    "    return cv2.LUT(image, table)\n",
    "\n",
    "# Paths\n",
    "input_folder = 'gray_converted_image'  # Replace with your input folder path\n",
    "output_folder = 'gammaTransformed_image'  # Replace with your output folder path\n",
    "\n",
    "# Create the output directory if it does not exist\n",
    "if not os.path.exists(output_folder):\n",
    "    os.makedirs(output_folder)\n",
    "\n",
    "# Gamma value to adjust\n",
    "gamma = 1.2\n",
    "\n",
    "# Process each image in the input folder\n",
    "for filename in os.listdir(input_folder):\n",
    "    if filename.endswith('.jpg') or filename.endswith('.png'):  # Add other image file types if necessary\n",
    "        image_path = os.path.join(input_folder, filename)\n",
    "        image = cv2.imread(image_path, 0)  # Load image in grayscale\n",
    "\n",
    "        # Apply gamma correction\n",
    "        adjusted = adjust_gamma(image, gamma=gamma)\n",
    "\n",
    "        # Save the adjusted image\n",
    "        output_path = os.path.join(output_folder, 'adjusted_' + filename)\n",
    "        cv2.imwrite(output_path, adjusted)\n",
    "\n",
    "print(\"Gamma correction applied to all images and saved to:\", output_folder)\n"
   ]
  },
  {
   "cell_type": "code",
   "execution_count": null,
   "id": "ad67d23f-fb22-4c0c-8546-f1d547f31620",
   "metadata": {},
   "outputs": [],
   "source": []
  },
  {
   "cell_type": "code",
   "execution_count": null,
   "id": "afcf56c9-bfe3-4c71-bd5d-f6872e9c5abe",
   "metadata": {},
   "outputs": [],
   "source": []
  }
 ],
 "metadata": {
  "kernelspec": {
   "display_name": "Python 3 (ipykernel)",
   "language": "python",
   "name": "python3"
  },
  "language_info": {
   "codemirror_mode": {
    "name": "ipython",
    "version": 3
   },
   "file_extension": ".py",
   "mimetype": "text/x-python",
   "name": "python",
   "nbconvert_exporter": "python",
   "pygments_lexer": "ipython3",
   "version": "3.8.19"
  }
 },
 "nbformat": 4,
 "nbformat_minor": 5
}
