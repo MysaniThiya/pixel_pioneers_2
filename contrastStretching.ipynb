{
 "cells": [
  {
   "cell_type": "code",
   "execution_count": 2,
   "id": "b3f8d379-fccd-4a6d-bab9-5dc4d8128805",
   "metadata": {},
   "outputs": [
    {
     "name": "stdout",
     "output_type": "stream",
     "text": [
      "Processed and saved: contrast_stretched\\adjusted_gray_Day_01.jpg\n",
      "Processed and saved: contrast_stretched\\adjusted_gray_Day_02.jpg\n",
      "Processed and saved: contrast_stretched\\adjusted_gray_Day_03.jpg\n",
      "Processed and saved: contrast_stretched\\adjusted_gray_Day_04.jpg\n",
      "Processed and saved: contrast_stretched\\adjusted_gray_Day_05.jpg\n",
      "Processed and saved: contrast_stretched\\adjusted_gray_Day_06.jpg\n",
      "Processed and saved: contrast_stretched\\adjusted_gray_Day_07.jpg\n",
      "Processed and saved: contrast_stretched\\adjusted_gray_Day_08.jpg\n",
      "Processed and saved: contrast_stretched\\adjusted_gray_Day_09.jpg\n",
      "Processed and saved: contrast_stretched\\adjusted_gray_Day_10.jpg\n",
      "Processed and saved: contrast_stretched\\adjusted_gray_Day_11.jpg\n",
      "Processed and saved: contrast_stretched\\adjusted_gray_Day_12.jpg\n",
      "Processed and saved: contrast_stretched\\adjusted_gray_Day_13.jpg\n",
      "Processed and saved: contrast_stretched\\adjusted_gray_Day_14.jpg\n",
      "Contrast stretching completed for all images.\n"
     ]
    }
   ],
   "source": [
    "import cv2\n",
    "import numpy as np\n",
    "import os\n",
    "\n",
    "# Define input and output directories\n",
    "input_dir = 'cannyEdge_detected_image'\n",
    "output_dir = 'contrast_stretched'\n",
    "\n",
    "# Create output directory if it doesn't exist\n",
    "if not os.path.exists(output_dir):\n",
    "    os.makedirs(output_dir)\n",
    "\n",
    "def contrast_stretching(image):\n",
    "    # Get minimum and maximum pixel values in the image\n",
    "    min_val = np.min(image)\n",
    "    max_val = np.max(image)\n",
    "    \n",
    "    # Define the new min and max pixel values\n",
    "    new_min = 0\n",
    "    new_max = 255\n",
    "    \n",
    "    # Perform contrast stretching\n",
    "    stretched_image = ((image - min_val) / (max_val - min_val)) * (new_max - new_min) + new_min\n",
    "    \n",
    "    # Convert to uint8\n",
    "    stretched_image = np.uint8(stretched_image)\n",
    "    \n",
    "    return stretched_image\n",
    "\n",
    "# Process each image\n",
    "for filename in os.listdir(input_dir):\n",
    "    if filename.endswith('.png') or filename.endswith('.jpg'):\n",
    "        # Read the grayscale image\n",
    "        image_path = os.path.join(input_dir, filename)\n",
    "        image = cv2.imread(image_path, cv2.IMREAD_GRAYSCALE)\n",
    "        \n",
    "        # Apply contrast stretching\n",
    "        stretched_image = contrast_stretching(image)\n",
    "        \n",
    "        # Save the result\n",
    "        output_path = os.path.join(output_dir, filename)\n",
    "        cv2.imwrite(output_path, stretched_image)\n",
    "        print(f'Processed and saved: {output_path}')\n",
    "\n",
    "print('Contrast stretching completed for all images.')\n"
   ]
  },
  {
   "cell_type": "code",
   "execution_count": null,
   "id": "bbae993f-36aa-4e66-8ff2-ed5e5450e08a",
   "metadata": {},
   "outputs": [],
   "source": []
  }
 ],
 "metadata": {
  "kernelspec": {
   "display_name": "Python 3 (ipykernel)",
   "language": "python",
   "name": "python3"
  },
  "language_info": {
   "codemirror_mode": {
    "name": "ipython",
    "version": 3
   },
   "file_extension": ".py",
   "mimetype": "text/x-python",
   "name": "python",
   "nbconvert_exporter": "python",
   "pygments_lexer": "ipython3",
   "version": "3.8.19"
  }
 },
 "nbformat": 4,
 "nbformat_minor": 5
}
