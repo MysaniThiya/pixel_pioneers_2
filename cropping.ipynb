{
 "cells": [
  {
   "cell_type": "code",
   "execution_count": 2,
   "id": "f9e6d4d4",
   "metadata": {},
   "outputs": [
    {
     "name": "stdout",
     "output_type": "stream",
     "text": [
      "Processed and saved Day_01.jpg to cropped_image\\Day_01.jpg\n",
      "Processed and saved Day_02.jpg to cropped_image\\Day_02.jpg\n",
      "Processed and saved Day_03.jpg to cropped_image\\Day_03.jpg\n",
      "Processed and saved Day_04.jpg to cropped_image\\Day_04.jpg\n",
      "Processed and saved Day_05.jpg to cropped_image\\Day_05.jpg\n",
      "Processed and saved Day_06.jpg to cropped_image\\Day_06.jpg\n",
      "Processed and saved Day_07.jpg to cropped_image\\Day_07.jpg\n",
      "Processed and saved Day_08.jpg to cropped_image\\Day_08.jpg\n",
      "Processed and saved Day_09.jpg to cropped_image\\Day_09.jpg\n",
      "Processed and saved Day_10.jpg to cropped_image\\Day_10.jpg\n",
      "Processed and saved Day_11.jpg to cropped_image\\Day_11.jpg\n",
      "Processed and saved Day_12.jpg to cropped_image\\Day_12.jpg\n",
      "Processed and saved Day_13.jpg to cropped_image\\Day_13.jpg\n",
      "Processed and saved Day_14.jpg to cropped_image\\Day_14.jpg\n"
     ]
    }
   ],
   "source": [
    "import cv2\n",
    "import os\n",
    "\n",
    "def crop_image(img, start_row, start_col, width, height):\n",
    "    end_row = start_row + height\n",
    "    end_col = start_col + width\n",
    "    return img[start_row:end_row, start_col:end_col]\n",
    "\n",
    "def process_images(input_folder, output_folder, start_row, start_col, width, height):\n",
    "    if not os.path.exists(output_folder):\n",
    "        os.makedirs(output_folder)\n",
    "    \n",
    "    for filename in os.listdir(input_folder):\n",
    "        if filename.endswith(\".jpg\") or filename.endswith(\".png\"):\n",
    "            img_path = os.path.join(input_folder, filename)\n",
    "            img = cv2.imread(img_path)\n",
    "            \n",
    "            if img is not None:\n",
    "                cropped_img = crop_image(img, start_row, start_col, width, height)\n",
    "                output_path = os.path.join(output_folder, filename)\n",
    "                cv2.imwrite(output_path, cropped_img)\n",
    "                print(f\"Processed and saved {filename} to {output_path}\")\n",
    "            else:\n",
    "                print(f\"Failed to read image {filename}\")\n",
    "        else:\n",
    "            print(f\"Skipped non-image file {filename}\")\n",
    "\n",
    "if __name__ == \"__main__\":\n",
    "    input_folder = \"bread_Image\"  # replace with your input folder path\n",
    "    output_folder = \"cropped_image\"  # replace with your output folder path\n",
    "    start_row =50  # replace with your starting row\n",
    "    start_col =100 # replace with your starting column\n",
    "    width = 3000  # replace with desired width\n",
    "    height = 3400  # replace with desired height\n",
    "    \n",
    "    process_images(input_folder, output_folder, start_row, start_col, width, height)"
   ]
  },
  {
   "cell_type": "code",
   "execution_count": null,
   "id": "fa2aae23",
   "metadata": {},
   "outputs": [],
   "source": []
  }
 ],
 "metadata": {
  "kernelspec": {
   "display_name": "Python 3 (ipykernel)",
   "language": "python",
   "name": "python3"
  },
  "language_info": {
   "codemirror_mode": {
    "name": "ipython",
    "version": 3
   },
   "file_extension": ".py",
   "mimetype": "text/x-python",
   "name": "python",
   "nbconvert_exporter": "python",
   "pygments_lexer": "ipython3",
   "version": "3.8.19"
  }
 },
 "nbformat": 4,
 "nbformat_minor": 5
}
