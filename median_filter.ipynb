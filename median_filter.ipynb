{
 "cells": [
  {
   "cell_type": "code",
   "execution_count": 6,
   "id": "afbfa8a4-263b-4eb7-99af-ff5705bcb32c",
   "metadata": {},
   "outputs": [
    {
     "name": "stdout",
     "output_type": "stream",
     "text": [
      "Median filtering applied to all images and saved to median_filter.\n"
     ]
    }
   ],
   "source": [
    "import cv2\n",
    "import os\n",
    "\n",
    "# Define paths\n",
    "input_directory = 'gammaTransformed_image'  # Path to your 28 images\n",
    "output_directory = 'median_filter'  # Directory where denoised images will be saved\n",
    "\n",
    "# Create output directory if it doesn't exist\n",
    "if not os.path.exists(output_directory):\n",
    "    os.makedirs(output_directory)\n",
    "\n",
    "# Set median filter kernel size\n",
    "ksize = 5  # Must be an odd number\n",
    "\n",
    "# Loop through all images in the input directory\n",
    "for filename in os.listdir(input_directory):\n",
    "    if filename.endswith('.png') or filename.endswith('.jpg'):  # Add more extensions if needed\n",
    "        # Load the image\n",
    "        image_path = os.path.join(input_directory, filename)\n",
    "        image = cv2.imread(image_path, cv2.IMREAD_GRAYSCALE)\n",
    "        \n",
    "        # Apply Median Filtering\n",
    "        median_filtered = cv2.medianBlur(image, ksize)\n",
    "        \n",
    "        # Save the filtered image to the output directory\n",
    "        output_path = os.path.join(output_directory, filename)\n",
    "        cv2.imwrite(output_path, median_filtered)\n",
    "\n",
    "print(f\"Median filtering applied to all images and saved to {output_directory}.\")\n"
   ]
  },
  {
   "cell_type": "code",
   "execution_count": null,
   "id": "700e14c6-e7d1-40f9-9867-72c76568fc47",
   "metadata": {},
   "outputs": [],
   "source": []
  }
 ],
 "metadata": {
  "kernelspec": {
   "display_name": "Python 3 (ipykernel)",
   "language": "python",
   "name": "python3"
  },
  "language_info": {
   "codemirror_mode": {
    "name": "ipython",
    "version": 3
   },
   "file_extension": ".py",
   "mimetype": "text/x-python",
   "name": "python",
   "nbconvert_exporter": "python",
   "pygments_lexer": "ipython3",
   "version": "3.8.19"
  }
 },
 "nbformat": 4,
 "nbformat_minor": 5
}
