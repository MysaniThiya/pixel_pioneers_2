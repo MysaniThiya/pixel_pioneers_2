{
 "cells": [
  {
   "cell_type": "code",
   "execution_count": 1,
   "id": "6e35e1cf-2225-406a-9028-7aa51f01e13f",
   "metadata": {},
   "outputs": [
    {
     "name": "stdout",
     "output_type": "stream",
     "text": [
      "Adaptive thresholding applied to all images and saved to adaptiveThresholded_image.\n"
     ]
    }
   ],
   "source": [
    "import cv2\n",
    "import os\n",
    "import numpy as np\n",
    "\n",
    "# Define paths\n",
    "input_directory = 'dilated_image'  # Path to your Gaussian blurred images\n",
    "output_directory = 'adaptiveThresholded_image'  # Directory where thresholded images will be saved\n",
    "\n",
    "# Create output directory if it doesn't exist\n",
    "if not os.path.exists(output_directory):\n",
    "    os.makedirs(output_directory)\n",
    "\n",
    "# Set parameters for \n",
    "adaptive thresholding\n",
    "adaptive_method = cv2.ADAPTIVE_THRESH_GAUSSIAN_C\n",
    "threshold_type = cv2.THRESH_BINARY\n",
    "block_size = 11  # Size of the neighborhood area\n",
    "C = 2  # Constant subtracted from the mean or weighted mean\n",
    "\n",
    "# Loop through all images in the input directory\n",
    "for filename in os.listdir(input_directory):\n",
    "    if filename.endswith('.png') or filename.endswith('.jpg'):  # Add more extensions if needed\n",
    "        # Load the image\n",
    "        image_path = os.path.join(input_directory, filename)\n",
    "        image = cv2.imread(image_path, cv2.IMREAD_GRAYSCALE)\n",
    "        \n",
    "        # Apply adaptive thresholding\n",
    "        adaptive_thresh = cv2.adaptiveThreshold(\n",
    "            image, \n",
    "            255,  # Maximum value to be given to pixels exceeding the threshold\n",
    "            adaptive_method,\n",
    "            threshold_type,\n",
    "            block_size,\n",
    "            C\n",
    "        )\n",
    "        \n",
    "        # Save the thresholded image to the output directory\n",
    "        output_path = os.path.join(output_directory, filename)\n",
    "        cv2.imwrite(output_path, adaptive_thresh)\n",
    "\n",
    "print(f\"Adaptive thresholding applied to all images and saved to {output_directory}.\")\n"
   ]
  },
  {
   "cell_type": "code",
   "execution_count": null,
   "id": "7e4d19de-cf7a-4240-aac5-f547a188efec",
   "metadata": {},
   "outputs": [],
   "source": []
  }
 ],
 "metadata": {
  "kernelspec": {
   "display_name": "Python 3 (ipykernel)",
   "language": "python",
   "name": "python3"
  },
  "language_info": {
   "codemirror_mode": {
    "name": "ipython",
    "version": 3
   },
   "file_extension": ".py",
   "mimetype": "text/x-python",
   "name": "python",
   "nbconvert_exporter": "python",
   "pygments_lexer": "ipython3",
   "version": "3.8.19"
  }
 },
 "nbformat": 4,
 "nbformat_minor": 5
}
