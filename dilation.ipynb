{
 "cells": [
  {
   "cell_type": "code",
   "execution_count": 2,
   "id": "1bd2adc5-e1dd-46a1-817a-a3fedece1306",
   "metadata": {},
   "outputs": [
    {
     "name": "stdout",
     "output_type": "stream",
     "text": [
      "Dilation applied to all images and saved to dilated_image.\n"
     ]
    }
   ],
   "source": [
    "\n",
    "import cv2\n",
    "import os\n",
    "import numpy as np\n",
    "\n",
    "# Define paths\n",
    "input_directory = 'contrast_stretched'  # Path to your Canny edge-detected images\n",
    "output_directory = 'dilated_image'  # Directory where dilated images will be saved\n",
    "\n",
    "# Create output directory if it doesn't exist\n",
    "if not os.path.exists(output_directory):\n",
    "    os.makedirs(output_directory)\n",
    "\n",
    "# Set dilation parameters\n",
    "kernel_size = (5, 5)  # Size of the dilation kernel (width, height)\n",
    "iterations = 1  # Number of times dilation is applied\n",
    "\n",
    "# Loop through all images in the input directory\n",
    "for filename in os.listdir(input_directory):\n",
    "    if filename.endswith('.png') or filename.endswith('.jpg'):  # Add more extensions if needed\n",
    "        # Load the image\n",
    "        image_path = os.path.join(input_directory, filename)\n",
    "        image = cv2.imread(image_path, cv2.IMREAD_GRAYSCALE)\n",
    "        \n",
    "        # Create a kernel for dilation\n",
    "        kernel = np.ones(kernel_size, np.uint8)\n",
    "        \n",
    "        # Apply dilation\n",
    "        dilated = cv2.dilate(image, kernel, iterations=iterations)\n",
    "        \n",
    "        # Save the dilated image to the output directory\n",
    "        output_path = os.path.join(output_directory, filename)\n",
    "        cv2.imwrite(output_path, dilated)\n",
    "\n",
    "print(f\"Dilation applied to all images and saved to {output_directory}.\")\n"
   ]
  },
  {
   "cell_type": "code",
   "execution_count": null,
   "id": "e1a2f8d2-e920-4c87-919a-34d7a7ba0aa3",
   "metadata": {},
   "outputs": [],
   "source": []
  }
 ],
 "metadata": {
  "kernelspec": {
   "display_name": "Python 3 (ipykernel)",
   "language": "python",
   "name": "python3"
  },
  "language_info": {
   "codemirror_mode": {
    "name": "ipython",
    "version": 3
   },
   "file_extension": ".py",
   "mimetype": "text/x-python",
   "name": "python",
   "nbconvert_exporter": "python",
   "pygments_lexer": "ipython3",
   "version": "3.8.19"
  }
 },
 "nbformat": 4,
 "nbformat_minor": 5
}
