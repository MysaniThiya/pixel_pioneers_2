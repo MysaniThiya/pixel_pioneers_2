{
 "cells": [
  {
   "cell_type": "code",
   "execution_count": 1,
   "id": "e7fa43c0-fb1f-4d69-b69f-56f35d80f675",
   "metadata": {},
   "outputs": [
    {
     "name": "stdout",
     "output_type": "stream",
     "text": [
      "Gaussian blur applied to all images and saved to gaussianBlur_images.\n"
     ]
    }
   ],
   "source": [
    "import cv2\n",
    "import os\n",
    "\n",
    "# Define paths\n",
    "input_directory = 'median_filter'  # Path to your 28 images\n",
    "output_directory = 'gaussianBlur_images'  # Directory where blurred images will be saved\n",
    "\n",
    "# Create output directory if it doesn't exist\n",
    "if not os.path.exists(output_directory):\n",
    "    os.makedirs(output_directory)\n",
    "\n",
    "# Set Gaussian blur parameters\n",
    "kernel_size = (5, 5)  # Size of the Gaussian kernel (width, height)\n",
    "sigma = 0  # Standard deviation in X and Y direction; 0 lets OpenCV compute it based on kernel size\n",
    "\n",
    "# Loop through all images in the input directory\n",
    "for filename in os.listdir(input_directory):\n",
    "    if filename.endswith('.png') or filename.endswith('.jpg'):  # Add more extensions if needed\n",
    "        # Load the image\n",
    "        image_path = os.path.join(input_directory, filename)\n",
    "        image = cv2.imread(image_path, cv2.IMREAD_GRAYSCALE)\n",
    "        \n",
    "        # Apply Gaussian Blur\n",
    "        gaussian_blurred = cv2.GaussianBlur(image, kernel_size, sigma)\n",
    "        \n",
    "        # Save the blurred image to the output directory\n",
    "        output_path = os.path.join(output_directory, filename)\n",
    "        cv2.imwrite(output_path, gaussian_blurred)\n",
    "\n",
    "print(f\"Gaussian blur applied to all images and saved to {output_directory}.\")\n"
   ]
  },
  {
   "cell_type": "code",
   "execution_count": null,
   "id": "6d133c49-4127-4311-b2e1-59ecd1a5b282",
   "metadata": {},
   "outputs": [],
   "source": []
  }
 ],
 "metadata": {
  "kernelspec": {
   "display_name": "Python 3 (ipykernel)",
   "language": "python",
   "name": "python3"
  },
  "language_info": {
   "codemirror_mode": {
    "name": "ipython",
    "version": 3
   },
   "file_extension": ".py",
   "mimetype": "text/x-python",
   "name": "python",
   "nbconvert_exporter": "python",
   "pygments_lexer": "ipython3",
   "version": "3.8.19"
  }
 },
 "nbformat": 4,
 "nbformat_minor": 5
}
