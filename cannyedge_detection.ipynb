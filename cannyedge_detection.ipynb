{
 "cells": [
  {
   "cell_type": "code",
   "execution_count": 5,
   "id": "57640c23-c1ef-40bb-bc38-ae3c3669beb8",
   "metadata": {},
   "outputs": [
    {
     "name": "stdout",
     "output_type": "stream",
     "text": [
      "Canny edge detection applied to all images and saved to cannyEdge_detected_image.\n"
     ]
    }
   ],
   "source": [
    "import cv2\n",
    "import os\n",
    "\n",
    "# Define paths\n",
    "input_directory = 'gaussianBlur_images'  # Path to your Gaussian blurred images\n",
    "output_directory = 'cannyEdge_detected_image'  # Directory where Canny edge-detected images will be saved\n",
    "\n",
    "# Create output directory if it doesn't exist\n",
    "if not os.path.exists(output_directory):\n",
    "    os.makedirs(output_directory)\n",
    "\n",
    "# Set Canny edge detection parameters\n",
    "low_threshold =50\n",
    "high_threshold = 200\n",
    "\n",
    "# Loop through all images in the input directory\n",
    "for filename in os.listdir(input_directory):\n",
    "    if filename.endswith('.png') or filename.endswith('.jpg'):  # Add more extensions if needed\n",
    "        # Load the image\n",
    "        image_path = os.path.join(input_directory, filename)\n",
    "        image = cv2.imread(image_path, cv2.IMREAD_GRAYSCALE)\n",
    "        \n",
    "        # Apply Canny Edge Detection\n",
    "        edges = cv2.Canny(image, low_threshold, high_threshold)\n",
    "        \n",
    "        # Save the edge-detected image to the output directory\n",
    "        output_path = os.path.join(output_directory, filename)\n",
    "        cv2.imwrite(output_path, edges)\n",
    "\n",
    "print(f\"Canny edge detection applied to all images and saved to {output_directory}.\")\n"
   ]
  },
  {
   "cell_type": "code",
   "execution_count": null,
   "id": "54a7fa7e-da10-4102-ab4a-5c6e88942533",
   "metadata": {},
   "outputs": [],
   "source": []
  }
 ],
 "metadata": {
  "kernelspec": {
   "display_name": "Python 3 (ipykernel)",
   "language": "python",
   "name": "python3"
  },
  "language_info": {
   "codemirror_mode": {
    "name": "ipython",
    "version": 3
   },
   "file_extension": ".py",
   "mimetype": "text/x-python",
   "name": "python",
   "nbconvert_exporter": "python",
   "pygments_lexer": "ipython3",
   "version": "3.8.19"
  }
 },
 "nbformat": 4,
 "nbformat_minor": 5
}
